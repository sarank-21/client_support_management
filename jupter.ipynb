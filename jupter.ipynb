{
 "cells": [
  {
   "cell_type": "code",
   "execution_count": 2,
   "id": "25f950d9",
   "metadata": {},
   "outputs": [],
   "source": [
    "import pandas as pd\n",
    "import mysql.connector\n",
    "import hashlib\n",
    "from datetime import datetime"
   ]
  },
  {
   "cell_type": "code",
   "execution_count": 3,
   "id": "3d723586",
   "metadata": {},
   "outputs": [],
   "source": [
    "def get_connection():\n",
    "    return mysql.connector.connect(\n",
    "        host=\"localhost\",\n",
    "        user=\"root\",\n",
    "        password=\"0007\",\n",
    "        database=\"client_query_db\"\n",
    "    )"
   ]
  },
  {
   "cell_type": "code",
   "execution_count": 1,
   "id": "d7687746",
   "metadata": {},
   "outputs": [],
   "source": [
    "def insert_queries_from_csv(csv_path=\"C:/Users/saran/Downloads/sample_queries_250.csv\"):\n",
    "    if \"csv_inserted\" in st.session_state and st.session_state[\"csv_inserted\"]:\n",
    "        return  # already inserted\n",
    "\n",
    "    conn = get_connection()\n",
    "    cursor = conn.cursor()\n",
    "    now = datetime.now()\n",
    "    df = pd.read_csv(csv_path)\n",
    "    for _, row in df.iterrows():\n",
    "        email = row.get(\"email\")\n",
    "        mobile = str(row.get(\"mobile\")) if pd.notna(row.get(\"mobile\")) else None\n",
    "        heading = row.get(\"query_heading\")\n",
    "        description = row.get(\"query_description\")\n",
    "        status = row.get(\"status\", \"Open\")\n",
    "        query_created_time = pd.to_datetime(row.get(\"query_created_time\"))\n",
    "        query_closed_time = pd.to_datetime(row.get(\"query_closed_time\")) if pd.notna(row.get(\"query_closed_time\")) else None\n",
    "        cursor.execute(\"\"\"SELECT id FROM queries \n",
    "            WHERE email=%s AND query_heading=%s AND query_description=%s AND query_created_time=%s\n",
    "        \"\"\", (email, heading, description, query_created_time)) # Skip duplicates (ignore query_closed_time in WHERE)\n",
    "        if cursor.fetchone():\n",
    "            continue\n",
    "        cursor.execute(\"\"\"INSERT INTO queries \n",
    "            (email, mobile, query_heading, query_description, query_created_time, status, query_closed_time)\n",
    "            VALUES (%s, %s, %s, %s, %s, %s, %s)\"\"\", (email,mobile,heading,description,query_created_time,status,query_closed_time)) # Inserting query  \n",
    "        conn.commit()\n",
    "    cursor.close()\n",
    "    conn.close()\n",
    "    print(\"csv_inserted\")"
   ]
  }
 ],
 "metadata": {
  "kernelspec": {
   "display_name": "cqms (3.13.4)",
   "language": "python",
   "name": "python3"
  },
  "language_info": {
   "codemirror_mode": {
    "name": "ipython",
    "version": 3
   },
   "file_extension": ".py",
   "mimetype": "text/x-python",
   "name": "python",
   "nbconvert_exporter": "python",
   "pygments_lexer": "ipython3",
   "version": "3.13.4"
  }
 },
 "nbformat": 4,
 "nbformat_minor": 5
}
